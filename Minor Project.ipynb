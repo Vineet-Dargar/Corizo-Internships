{
 "cells": [
  {
   "cell_type": "code",
   "execution_count": 1,
   "id": "302fb51f",
   "metadata": {},
   "outputs": [],
   "source": [
    "# Import relevant Data Preprocessing Libraries\n",
    "import numpy as np\n",
    "import pandas as pd\n",
    "import matplotlib.pyplot as plt\n",
    "import math\n",
    "import random\n",
    "import statsmodels"
   ]
  },
  {
   "cell_type": "code",
   "execution_count": 2,
   "id": "60d1410d",
   "metadata": {},
   "outputs": [],
   "source": [
    "# Import Data\n",
    "data = pd.read_excel('1613615-Stock_Price_data_set (1).xlsx', index_col='Date')"
   ]
  },
  {
   "cell_type": "markdown",
   "id": "b91e0d37",
   "metadata": {},
   "source": [
    "## Preprocessing of Data"
   ]
  },
  {
   "cell_type": "code",
   "execution_count": 3,
   "id": "993731aa",
   "metadata": {},
   "outputs": [
    {
     "data": {
      "text/html": [
       "<div>\n",
       "<style scoped>\n",
       "    .dataframe tbody tr th:only-of-type {\n",
       "        vertical-align: middle;\n",
       "    }\n",
       "\n",
       "    .dataframe tbody tr th {\n",
       "        vertical-align: top;\n",
       "    }\n",
       "\n",
       "    .dataframe thead th {\n",
       "        text-align: right;\n",
       "    }\n",
       "</style>\n",
       "<table border=\"1\" class=\"dataframe\">\n",
       "  <thead>\n",
       "    <tr style=\"text-align: right;\">\n",
       "      <th></th>\n",
       "      <th>Open</th>\n",
       "      <th>High</th>\n",
       "      <th>Low</th>\n",
       "      <th>Close</th>\n",
       "      <th>Adj Close</th>\n",
       "      <th>Volume</th>\n",
       "    </tr>\n",
       "    <tr>\n",
       "      <th>Date</th>\n",
       "      <th></th>\n",
       "      <th></th>\n",
       "      <th></th>\n",
       "      <th></th>\n",
       "      <th></th>\n",
       "      <th></th>\n",
       "    </tr>\n",
       "  </thead>\n",
       "  <tbody>\n",
       "    <tr>\n",
       "      <th>2018-02-05</th>\n",
       "      <td>262.000000</td>\n",
       "      <td>267.899994</td>\n",
       "      <td>250.029999</td>\n",
       "      <td>254.259995</td>\n",
       "      <td>254.259995</td>\n",
       "      <td>11896100.0</td>\n",
       "    </tr>\n",
       "    <tr>\n",
       "      <th>2018-02-06</th>\n",
       "      <td>247.699997</td>\n",
       "      <td>266.700012</td>\n",
       "      <td>245.000000</td>\n",
       "      <td>265.720001</td>\n",
       "      <td>265.720001</td>\n",
       "      <td>12595800.0</td>\n",
       "    </tr>\n",
       "    <tr>\n",
       "      <th>2018-02-07</th>\n",
       "      <td>266.579987</td>\n",
       "      <td>272.450012</td>\n",
       "      <td>264.329987</td>\n",
       "      <td>264.559998</td>\n",
       "      <td>264.559998</td>\n",
       "      <td>8981500.0</td>\n",
       "    </tr>\n",
       "    <tr>\n",
       "      <th>2018-02-08</th>\n",
       "      <td>267.079987</td>\n",
       "      <td>267.619995</td>\n",
       "      <td>250.000000</td>\n",
       "      <td>250.100006</td>\n",
       "      <td>250.100006</td>\n",
       "      <td>9306700.0</td>\n",
       "    </tr>\n",
       "    <tr>\n",
       "      <th>2018-02-09</th>\n",
       "      <td>253.850006</td>\n",
       "      <td>255.800003</td>\n",
       "      <td>236.110001</td>\n",
       "      <td>249.470001</td>\n",
       "      <td>249.470001</td>\n",
       "      <td>16906900.0</td>\n",
       "    </tr>\n",
       "  </tbody>\n",
       "</table>\n",
       "</div>"
      ],
      "text/plain": [
       "                  Open        High         Low       Close   Adj Close  \\\n",
       "Date                                                                     \n",
       "2018-02-05  262.000000  267.899994  250.029999  254.259995  254.259995   \n",
       "2018-02-06  247.699997  266.700012  245.000000  265.720001  265.720001   \n",
       "2018-02-07  266.579987  272.450012  264.329987  264.559998  264.559998   \n",
       "2018-02-08  267.079987  267.619995  250.000000  250.100006  250.100006   \n",
       "2018-02-09  253.850006  255.800003  236.110001  249.470001  249.470001   \n",
       "\n",
       "                Volume  \n",
       "Date                    \n",
       "2018-02-05  11896100.0  \n",
       "2018-02-06  12595800.0  \n",
       "2018-02-07   8981500.0  \n",
       "2018-02-08   9306700.0  \n",
       "2018-02-09  16906900.0  "
      ]
     },
     "execution_count": 3,
     "metadata": {},
     "output_type": "execute_result"
    }
   ],
   "source": [
    "data.head()"
   ]
  },
  {
   "cell_type": "code",
   "execution_count": 4,
   "id": "5c242d14",
   "metadata": {},
   "outputs": [
    {
     "data": {
      "text/html": [
       "<div>\n",
       "<style scoped>\n",
       "    .dataframe tbody tr th:only-of-type {\n",
       "        vertical-align: middle;\n",
       "    }\n",
       "\n",
       "    .dataframe tbody tr th {\n",
       "        vertical-align: top;\n",
       "    }\n",
       "\n",
       "    .dataframe thead th {\n",
       "        text-align: right;\n",
       "    }\n",
       "</style>\n",
       "<table border=\"1\" class=\"dataframe\">\n",
       "  <thead>\n",
       "    <tr style=\"text-align: right;\">\n",
       "      <th></th>\n",
       "      <th>Open</th>\n",
       "      <th>High</th>\n",
       "      <th>Low</th>\n",
       "      <th>Close</th>\n",
       "      <th>Adj Close</th>\n",
       "      <th>Volume</th>\n",
       "    </tr>\n",
       "    <tr>\n",
       "      <th>Date</th>\n",
       "      <th></th>\n",
       "      <th></th>\n",
       "      <th></th>\n",
       "      <th></th>\n",
       "      <th></th>\n",
       "      <th></th>\n",
       "    </tr>\n",
       "  </thead>\n",
       "  <tbody>\n",
       "    <tr>\n",
       "      <th>2022-01-31</th>\n",
       "      <td>401.970001</td>\n",
       "      <td>427.700012</td>\n",
       "      <td>398.200012</td>\n",
       "      <td>427.140015</td>\n",
       "      <td>427.140015</td>\n",
       "      <td>20047500.0</td>\n",
       "    </tr>\n",
       "    <tr>\n",
       "      <th>2022-02-01</th>\n",
       "      <td>432.959991</td>\n",
       "      <td>458.480011</td>\n",
       "      <td>425.540009</td>\n",
       "      <td>457.130005</td>\n",
       "      <td>457.130005</td>\n",
       "      <td>22542300.0</td>\n",
       "    </tr>\n",
       "    <tr>\n",
       "      <th>2022-02-02</th>\n",
       "      <td>448.250000</td>\n",
       "      <td>451.980011</td>\n",
       "      <td>426.480011</td>\n",
       "      <td>429.480011</td>\n",
       "      <td>429.480011</td>\n",
       "      <td>14346000.0</td>\n",
       "    </tr>\n",
       "    <tr>\n",
       "      <th>2022-02-03</th>\n",
       "      <td>421.440002</td>\n",
       "      <td>429.260010</td>\n",
       "      <td>404.279999</td>\n",
       "      <td>405.600006</td>\n",
       "      <td>405.600006</td>\n",
       "      <td>9905200.0</td>\n",
       "    </tr>\n",
       "    <tr>\n",
       "      <th>2022-02-04</th>\n",
       "      <td>407.309998</td>\n",
       "      <td>412.769989</td>\n",
       "      <td>396.640015</td>\n",
       "      <td>410.170013</td>\n",
       "      <td>410.170013</td>\n",
       "      <td>7782400.0</td>\n",
       "    </tr>\n",
       "  </tbody>\n",
       "</table>\n",
       "</div>"
      ],
      "text/plain": [
       "                  Open        High         Low       Close   Adj Close  \\\n",
       "Date                                                                     \n",
       "2022-01-31  401.970001  427.700012  398.200012  427.140015  427.140015   \n",
       "2022-02-01  432.959991  458.480011  425.540009  457.130005  457.130005   \n",
       "2022-02-02  448.250000  451.980011  426.480011  429.480011  429.480011   \n",
       "2022-02-03  421.440002  429.260010  404.279999  405.600006  405.600006   \n",
       "2022-02-04  407.309998  412.769989  396.640015  410.170013  410.170013   \n",
       "\n",
       "                Volume  \n",
       "Date                    \n",
       "2022-01-31  20047500.0  \n",
       "2022-02-01  22542300.0  \n",
       "2022-02-02  14346000.0  \n",
       "2022-02-03   9905200.0  \n",
       "2022-02-04   7782400.0  "
      ]
     },
     "execution_count": 4,
     "metadata": {},
     "output_type": "execute_result"
    }
   ],
   "source": [
    "data.tail()"
   ]
  },
  {
   "cell_type": "code",
   "execution_count": 5,
   "id": "e83c5e05",
   "metadata": {},
   "outputs": [
    {
     "name": "stdout",
     "output_type": "stream",
     "text": [
      "<class 'pandas.core.frame.DataFrame'>\n",
      "DatetimeIndex: 1009 entries, 2018-02-05 to 2022-02-04\n",
      "Data columns (total 6 columns):\n",
      " #   Column     Non-Null Count  Dtype  \n",
      "---  ------     --------------  -----  \n",
      " 0   Open       1009 non-null   float64\n",
      " 1   High       1009 non-null   float64\n",
      " 2   Low        1009 non-null   float64\n",
      " 3   Close      1009 non-null   float64\n",
      " 4   Adj Close  1009 non-null   float64\n",
      " 5   Volume     1009 non-null   float64\n",
      "dtypes: float64(6)\n",
      "memory usage: 55.2 KB\n"
     ]
    }
   ],
   "source": [
    "data.info()"
   ]
  },
  {
   "cell_type": "markdown",
   "id": "34444c47",
   "metadata": {},
   "source": [
    "We can check for number of entries and type of data from the above info.\n",
    "\n",
    "It can be seen that our table is complete, we have no missing data and all the data types are Float which is \n",
    "ideal for our use."
   ]
  },
  {
   "cell_type": "code",
   "execution_count": 6,
   "id": "caa57bfe",
   "metadata": {},
   "outputs": [
    {
     "data": {
      "text/plain": [
       "DatetimeIndex(['2018-02-05', '2018-02-06', '2018-02-07', '2018-02-08',\n",
       "               '2018-02-09', '2018-02-12', '2018-02-13', '2018-02-14',\n",
       "               '2018-02-15', '2018-02-16',\n",
       "               ...\n",
       "               '2022-01-24', '2022-01-25', '2022-01-26', '2022-01-27',\n",
       "               '2022-01-28', '2022-01-31', '2022-02-01', '2022-02-02',\n",
       "               '2022-02-03', '2022-02-04'],\n",
       "              dtype='datetime64[ns]', name='Date', length=1009, freq=None)"
      ]
     },
     "execution_count": 6,
     "metadata": {},
     "output_type": "execute_result"
    }
   ],
   "source": [
    "data.index"
   ]
  },
  {
   "cell_type": "markdown",
   "id": "c5d5fba0",
   "metadata": {},
   "source": [
    "Make sure to check the format of index and check if it has appropriate format for use in predictions.\n",
    "\n",
    "Example: In weather data, if we need to predict for next few hours or days, we may need to change the format of data to hours or minutes."
   ]
  },
  {
   "cell_type": "code",
   "execution_count": 7,
   "id": "28d2c41f",
   "metadata": {},
   "outputs": [
    {
     "data": {
      "text/html": [
       "<div>\n",
       "<style scoped>\n",
       "    .dataframe tbody tr th:only-of-type {\n",
       "        vertical-align: middle;\n",
       "    }\n",
       "\n",
       "    .dataframe tbody tr th {\n",
       "        vertical-align: top;\n",
       "    }\n",
       "\n",
       "    .dataframe thead th {\n",
       "        text-align: right;\n",
       "    }\n",
       "</style>\n",
       "<table border=\"1\" class=\"dataframe\">\n",
       "  <thead>\n",
       "    <tr style=\"text-align: right;\">\n",
       "      <th></th>\n",
       "      <th>Open</th>\n",
       "      <th>High</th>\n",
       "      <th>Low</th>\n",
       "      <th>Close</th>\n",
       "      <th>Adj Close</th>\n",
       "      <th>Volume</th>\n",
       "    </tr>\n",
       "  </thead>\n",
       "  <tbody>\n",
       "    <tr>\n",
       "      <th>count</th>\n",
       "      <td>1009.000000</td>\n",
       "      <td>1009.000000</td>\n",
       "      <td>1009.000000</td>\n",
       "      <td>1009.000000</td>\n",
       "      <td>1009.000000</td>\n",
       "      <td>1.009000e+03</td>\n",
       "    </tr>\n",
       "    <tr>\n",
       "      <th>mean</th>\n",
       "      <td>419.059673</td>\n",
       "      <td>425.320703</td>\n",
       "      <td>412.374044</td>\n",
       "      <td>419.000733</td>\n",
       "      <td>419.000733</td>\n",
       "      <td>7.570685e+06</td>\n",
       "    </tr>\n",
       "    <tr>\n",
       "      <th>std</th>\n",
       "      <td>108.537532</td>\n",
       "      <td>109.262960</td>\n",
       "      <td>107.555867</td>\n",
       "      <td>108.289999</td>\n",
       "      <td>108.289999</td>\n",
       "      <td>5.465535e+06</td>\n",
       "    </tr>\n",
       "    <tr>\n",
       "      <th>min</th>\n",
       "      <td>233.919998</td>\n",
       "      <td>250.649994</td>\n",
       "      <td>231.229996</td>\n",
       "      <td>233.880005</td>\n",
       "      <td>233.880005</td>\n",
       "      <td>1.144000e+06</td>\n",
       "    </tr>\n",
       "    <tr>\n",
       "      <th>25%</th>\n",
       "      <td>331.489990</td>\n",
       "      <td>336.299988</td>\n",
       "      <td>326.000000</td>\n",
       "      <td>331.619995</td>\n",
       "      <td>331.619995</td>\n",
       "      <td>4.091900e+06</td>\n",
       "    </tr>\n",
       "    <tr>\n",
       "      <th>50%</th>\n",
       "      <td>377.769989</td>\n",
       "      <td>383.010010</td>\n",
       "      <td>370.880005</td>\n",
       "      <td>378.670013</td>\n",
       "      <td>378.670013</td>\n",
       "      <td>5.934500e+06</td>\n",
       "    </tr>\n",
       "    <tr>\n",
       "      <th>75%</th>\n",
       "      <td>509.130005</td>\n",
       "      <td>515.630005</td>\n",
       "      <td>502.529999</td>\n",
       "      <td>509.079987</td>\n",
       "      <td>509.079987</td>\n",
       "      <td>9.322400e+06</td>\n",
       "    </tr>\n",
       "    <tr>\n",
       "      <th>max</th>\n",
       "      <td>692.349976</td>\n",
       "      <td>700.989990</td>\n",
       "      <td>686.090027</td>\n",
       "      <td>691.690002</td>\n",
       "      <td>691.690002</td>\n",
       "      <td>5.890430e+07</td>\n",
       "    </tr>\n",
       "  </tbody>\n",
       "</table>\n",
       "</div>"
      ],
      "text/plain": [
       "              Open         High          Low        Close    Adj Close  \\\n",
       "count  1009.000000  1009.000000  1009.000000  1009.000000  1009.000000   \n",
       "mean    419.059673   425.320703   412.374044   419.000733   419.000733   \n",
       "std     108.537532   109.262960   107.555867   108.289999   108.289999   \n",
       "min     233.919998   250.649994   231.229996   233.880005   233.880005   \n",
       "25%     331.489990   336.299988   326.000000   331.619995   331.619995   \n",
       "50%     377.769989   383.010010   370.880005   378.670013   378.670013   \n",
       "75%     509.130005   515.630005   502.529999   509.079987   509.079987   \n",
       "max     692.349976   700.989990   686.090027   691.690002   691.690002   \n",
       "\n",
       "             Volume  \n",
       "count  1.009000e+03  \n",
       "mean   7.570685e+06  \n",
       "std    5.465535e+06  \n",
       "min    1.144000e+06  \n",
       "25%    4.091900e+06  \n",
       "50%    5.934500e+06  \n",
       "75%    9.322400e+06  \n",
       "max    5.890430e+07  "
      ]
     },
     "execution_count": 7,
     "metadata": {},
     "output_type": "execute_result"
    }
   ],
   "source": [
    "data.describe()"
   ]
  },
  {
   "cell_type": "markdown",
   "id": "aa55fbf1",
   "metadata": {},
   "source": [
    "The above table is useful to check for data values, any outliers or problems with data coressponding to\n",
    "information represented by specific data.\n",
    "\n",
    "For our data, we can see that our data is completely fine and we can proceed to use this data for predictions."
   ]
  },
  {
   "cell_type": "code",
   "execution_count": 8,
   "id": "cc31c4b6",
   "metadata": {},
   "outputs": [
    {
     "data": {
      "text/plain": [
       "<AxesSubplot:>"
      ]
     },
     "execution_count": 8,
     "metadata": {},
     "output_type": "execute_result"
    },
    {
     "data": {
      "image/png": "[encoded data removed]",
      "text/plain": [
       "<Figure size 432x288 with 1 Axes>"
      ]
     },
     "metadata": {
      "needs_background": "light"
     },
     "output_type": "display_data"
    }
   ],
   "source": [
    "data.drop(['Volume'],axis=1).plot(kind='box')"
   ]
  },
  {
   "cell_type": "markdown",
   "id": "8ea45030",
   "metadata": {},
   "source": [
    "Boxplots are useful for seeing outliers and different statistics of data and sometimes to compare them as well.\n",
    "\n",
    "In this case, we drop volume because we have no use of that data and its values are too big compared to others."
   ]
  },
  {
   "cell_type": "code",
   "execution_count": 9,
   "id": "12524a4e",
   "metadata": {},
   "outputs": [],
   "source": [
    "# Changes in opening and Adj Closing prices over time "
   ]
  },
  {
   "cell_type": "code",
   "execution_count": 10,
   "id": "7694cdff",
   "metadata": {},
   "outputs": [
    {
     "data": {
      "image/png": "[encoded data removed]",
      "text/plain": [
       "<Figure size 1440x720 with 2 Axes>"
      ]
     },
     "metadata": {
      "needs_background": "light"
     },
     "output_type": "display_data"
    }
   ],
   "source": [
    "plot_cols = ['Open', 'Adj Close']\n",
    "plot_features = data[plot_cols]\n",
    "_ = plot_features.plot(figsize=(20,10), subplots=True)"
   ]
  },
  {
   "cell_type": "markdown",
   "id": "887c796b",
   "metadata": {},
   "source": [
    "Creating a dataframe with only 'Adj Close' column since we will be using only this column to predict prices "
   ]
  },
  {
   "cell_type": "code",
   "execution_count": 11,
   "id": "839d4858",
   "metadata": {},
   "outputs": [
    {
     "data": {
      "text/html": [
       "<div>\n",
       "<style scoped>\n",
       "    .dataframe tbody tr th:only-of-type {\n",
       "        vertical-align: middle;\n",
       "    }\n",
       "\n",
       "    .dataframe tbody tr th {\n",
       "        vertical-align: top;\n",
       "    }\n",
       "\n",
       "    .dataframe thead th {\n",
       "        text-align: right;\n",
       "    }\n",
       "</style>\n",
       "<table border=\"1\" class=\"dataframe\">\n",
       "  <thead>\n",
       "    <tr style=\"text-align: right;\">\n",
       "      <th></th>\n",
       "      <th>Adj Close</th>\n",
       "    </tr>\n",
       "    <tr>\n",
       "      <th>Date</th>\n",
       "      <th></th>\n",
       "    </tr>\n",
       "  </thead>\n",
       "  <tbody>\n",
       "    <tr>\n",
       "      <th>2018-02-05</th>\n",
       "      <td>254.259995</td>\n",
       "    </tr>\n",
       "    <tr>\n",
       "      <th>2018-02-06</th>\n",
       "      <td>265.720001</td>\n",
       "    </tr>\n",
       "    <tr>\n",
       "      <th>2018-02-07</th>\n",
       "      <td>264.559998</td>\n",
       "    </tr>\n",
       "    <tr>\n",
       "      <th>2018-02-08</th>\n",
       "      <td>250.100006</td>\n",
       "    </tr>\n",
       "    <tr>\n",
       "      <th>2018-02-09</th>\n",
       "      <td>249.470001</td>\n",
       "    </tr>\n",
       "    <tr>\n",
       "      <th>...</th>\n",
       "      <td>...</td>\n",
       "    </tr>\n",
       "    <tr>\n",
       "      <th>2022-01-31</th>\n",
       "      <td>427.140015</td>\n",
       "    </tr>\n",
       "    <tr>\n",
       "      <th>2022-02-01</th>\n",
       "      <td>457.130005</td>\n",
       "    </tr>\n",
       "    <tr>\n",
       "      <th>2022-02-02</th>\n",
       "      <td>429.480011</td>\n",
       "    </tr>\n",
       "    <tr>\n",
       "      <th>2022-02-03</th>\n",
       "      <td>405.600006</td>\n",
       "    </tr>\n",
       "    <tr>\n",
       "      <th>2022-02-04</th>\n",
       "      <td>410.170013</td>\n",
       "    </tr>\n",
       "  </tbody>\n",
       "</table>\n",
       "<p>1009 rows × 1 columns</p>\n",
       "</div>"
      ],
      "text/plain": [
       "             Adj Close\n",
       "Date                  \n",
       "2018-02-05  254.259995\n",
       "2018-02-06  265.720001\n",
       "2018-02-07  264.559998\n",
       "2018-02-08  250.100006\n",
       "2018-02-09  249.470001\n",
       "...                ...\n",
       "2022-01-31  427.140015\n",
       "2022-02-01  457.130005\n",
       "2022-02-02  429.480011\n",
       "2022-02-03  405.600006\n",
       "2022-02-04  410.170013\n",
       "\n",
       "[1009 rows x 1 columns]"
      ]
     },
     "execution_count": 11,
     "metadata": {},
     "output_type": "execute_result"
    }
   ],
   "source": [
    "sep_data = data.filter(['Adj Close'])\n",
    "sep_data"
   ]
  },
  {
   "cell_type": "code",
   "execution_count": 12,
   "id": "300a8c3d",
   "metadata": {},
   "outputs": [],
   "source": [
    "# Convert above dataframe to numpy array containing only values"
   ]
  },
  {
   "cell_type": "code",
   "execution_count": 13,
   "id": "f487a15e",
   "metadata": {},
   "outputs": [
    {
     "data": {
      "text/plain": [
       "array([[254.259995],\n",
       "       [265.720001],\n",
       "       [264.559998],\n",
       "       ...,\n",
       "       [429.480011],\n",
       "       [405.600006],\n",
       "       [410.170013]])"
      ]
     },
     "execution_count": 13,
     "metadata": {},
     "output_type": "execute_result"
    }
   ],
   "source": [
    "sep_data_array = sep_data.to_numpy()\n",
    "sep_data_array"
   ]
  },
  {
   "cell_type": "markdown",
   "id": "cfa3f9f9",
   "metadata": {},
   "source": [
    "## Scale the Data"
   ]
  },
  {
   "cell_type": "code",
   "execution_count": 14,
   "id": "b9a8dd98",
   "metadata": {},
   "outputs": [],
   "source": [
    "from sklearn.preprocessing import MinMaxScaler\n",
    "scaler = MinMaxScaler(feature_range=(0,1))"
   ]
  },
  {
   "cell_type": "code",
   "execution_count": 15,
   "id": "b0d09ec0",
   "metadata": {},
   "outputs": [],
   "source": [
    "min_max_scaled_data = scaler.fit_transform(sep_data_array)"
   ]
  },
  {
   "cell_type": "code",
   "execution_count": 16,
   "id": "8268c8f7",
   "metadata": {},
   "outputs": [
    {
     "data": {
      "text/plain": [
       "array([[0.04451626],\n",
       "       [0.06954849],\n",
       "       [0.06701469],\n",
       "       ...,\n",
       "       [0.4272515 ],\n",
       "       [0.37509011],\n",
       "       [0.38507243]])"
      ]
     },
     "execution_count": 16,
     "metadata": {},
     "output_type": "execute_result"
    }
   ],
   "source": [
    "min_max_scaled_data"
   ]
  },
  {
   "cell_type": "code",
   "execution_count": 17,
   "id": "ac42c283",
   "metadata": {},
   "outputs": [
    {
     "name": "stdout",
     "output_type": "stream",
     "text": [
      "(array([2], dtype=int64), array([0], dtype=int64))\n"
     ]
    }
   ],
   "source": [
    "t = np.where(min_max_scaled_data==min_max_scaled_data[2])\n",
    "print(t)"
   ]
  },
  {
   "cell_type": "markdown",
   "id": "6f784c99",
   "metadata": {},
   "source": [
    "## Splitting the Dataset into Training, Validation and Test Datasets in ratio of (70%,20%,10%)"
   ]
  },
  {
   "cell_type": "code",
   "execution_count": 18,
   "id": "34d98977",
   "metadata": {},
   "outputs": [],
   "source": [
    "n = len(sep_data)\n",
    "train_data_len = int(0.7*n)\n"
   ]
  },
  {
   "cell_type": "code",
   "execution_count": 19,
   "id": "f478afda",
   "metadata": {},
   "outputs": [],
   "source": [
    "train_data = min_max_scaled_data[:train_data_len]\n",
    "valid_data = min_max_scaled_data[train_data_len:]"
   ]
  },
  {
   "cell_type": "code",
   "execution_count": 20,
   "id": "e86b2fc1",
   "metadata": {},
   "outputs": [
    {
     "data": {
      "text/plain": [
       "(706, 1)"
      ]
     },
     "execution_count": 20,
     "metadata": {},
     "output_type": "execute_result"
    }
   ],
   "source": [
    "train_data.shape"
   ]
  },
  {
   "cell_type": "code",
   "execution_count": 21,
   "id": "c999eecb",
   "metadata": {},
   "outputs": [],
   "source": [
    "# Creating x and y training datasets\n",
    "# i.e. y is the result value and all values in x are variables for training purpose in machine learning"
   ]
  },
  {
   "cell_type": "code",
   "execution_count": 22,
   "id": "70118180",
   "metadata": {},
   "outputs": [],
   "source": [
    "x_train = []\n",
    "y_train = []\n",
    "for i in range(100,len(train_data)):\n",
    "    x_train.append(train_data[i-100:i, 0])\n",
    "    y_train.append(train_data[i, 0])"
   ]
  },
  {
   "cell_type": "code",
   "execution_count": 23,
   "id": "8223b9ee",
   "metadata": {},
   "outputs": [],
   "source": [
    "#convert the x_train and y_train  to numppy array\n",
    "x_train,y_train = np.array(x_train), np.array(y_train)"
   ]
  },
  {
   "cell_type": "code",
   "execution_count": 24,
   "id": "0ab34ddd",
   "metadata": {},
   "outputs": [
    {
     "data": {
      "text/plain": [
       "(606,)"
      ]
     },
     "execution_count": 24,
     "metadata": {},
     "output_type": "execute_result"
    }
   ],
   "source": [
    "y_train.shape"
   ]
  },
  {
   "cell_type": "code",
   "execution_count": 25,
   "id": "b59d733b",
   "metadata": {},
   "outputs": [
    {
     "data": {
      "text/plain": [
       "(606, 100, 1)"
      ]
     },
     "execution_count": 25,
     "metadata": {},
     "output_type": "execute_result"
    }
   ],
   "source": [
    "#reshape the data\n",
    "x_train = np.reshape(x_train,(x_train.shape[0],x_train.shape[1],1))\n",
    "x_train.shape"
   ]
  },
  {
   "cell_type": "markdown",
   "id": "8509a01c",
   "metadata": {},
   "source": [
    "## Creating the model"
   ]
  },
  {
   "cell_type": "code",
   "execution_count": 26,
   "id": "ffccf094",
   "metadata": {},
   "outputs": [],
   "source": [
    "from tensorflow.keras.models import Sequential\n",
    "from tensorflow.keras.layers import Dense, LSTM\n",
    "from tensorflow.keras import layers"
   ]
  },
  {
   "cell_type": "code",
   "execution_count": 27,
   "id": "476ff9c7",
   "metadata": {},
   "outputs": [],
   "source": [
    "#Buil the LSTM model\n",
    "model =Sequential()\n",
    "model.add(LSTM(64,return_sequences=True, input_shape=(x_train.shape[1],1)))\n",
    "model.add(LSTM(64, return_sequences= False))\n",
    "model.add(Dense(32))\n",
    "model.add(Dense(1))"
   ]
  },
  {
   "cell_type": "code",
   "execution_count": 28,
   "id": "b51ce6c6",
   "metadata": {},
   "outputs": [],
   "source": [
    "#Compile the model\n",
    "model.compile(optimizer='adam', loss='mean_squared_error')"
   ]
  },
  {
   "cell_type": "code",
   "execution_count": null,
   "id": "31abf6e9",
   "metadata": {},
   "outputs": [
    {
     "name": "stdout",
     "output_type": "stream",
     "text": [
      "Epoch 1/10\n",
      "606/606 [==============================] - 18s 25ms/step - loss: 0.0029\n",
      "Epoch 2/10\n",
      "606/606 [==============================] - 16s 26ms/step - loss: 0.0015\n",
      "Epoch 3/10\n",
      "606/606 [==============================] - 15s 25ms/step - loss: 0.0012\n",
      "Epoch 4/10\n",
      "606/606 [==============================] - 15s 25ms/step - loss: 8.9412e-04\n",
      "Epoch 5/10\n",
      "606/606 [==============================] - 15s 24ms/step - loss: 8.5920e-04\n",
      "Epoch 6/10\n",
      "606/606 [==============================] - 15s 25ms/step - loss: 9.1467e-04\n",
      "Epoch 7/10\n",
      "102/606 [====>.........................] - ETA: 12s - loss: 6.5729e-04"
     ]
    }
   ],
   "source": [
    "#Train the model\n",
    "model.fit(x_train,y_train, batch_size=1, epochs=10)"
   ]
  },
  {
   "cell_type": "markdown",
   "id": "c22273ab",
   "metadata": {},
   "source": [
    "## Validating the model"
   ]
  },
  {
   "cell_type": "code",
   "execution_count": null,
   "id": "b1412f1e",
   "metadata": {},
   "outputs": [],
   "source": [
    "x_test = []\n",
    "y_test = valid_data[:]\n",
    "for i in range(100,len(valid_data)+100):\n",
    "    t = np.where(min_max_scaled_data==y_test[i-100])\n",
    "    x_test.append(min_max_scaled_data[t[0][0]-100:t[0][0], 0])"
   ]
  },
  {
   "cell_type": "code",
   "execution_count": null,
   "id": "a95d78e8",
   "metadata": {},
   "outputs": [],
   "source": [
    "type(y_test)"
   ]
  },
  {
   "cell_type": "code",
   "execution_count": null,
   "id": "c2a7e347",
   "metadata": {},
   "outputs": [],
   "source": [
    "x_test = np.array(x_test)"
   ]
  },
  {
   "cell_type": "code",
   "execution_count": null,
   "id": "b1a024f1",
   "metadata": {},
   "outputs": [],
   "source": [
    "x_test.shape"
   ]
  },
  {
   "cell_type": "code",
   "execution_count": null,
   "id": "9589b9df",
   "metadata": {},
   "outputs": [],
   "source": [
    "x_test = np.reshape(x_test, (x_test.shape[0], x_test.shape[1],1))\n",
    "x_test.shape"
   ]
  },
  {
   "cell_type": "code",
   "execution_count": null,
   "id": "2aa6ffab",
   "metadata": {},
   "outputs": [],
   "source": [
    "#predicting the data\n",
    "predictions = model.predict(x_test)\n",
    "predictions = scaler.inverse_transform(predictions)"
   ]
  },
  {
   "cell_type": "code",
   "execution_count": null,
   "id": "8d7c69ed",
   "metadata": {},
   "outputs": [],
   "source": [
    "#get the root mean square error(RMSE)\n",
    "rmse = np.sqrt(np.mean(predictions - y_test)**2)\n",
    "rmse"
   ]
  },
  {
   "cell_type": "code",
   "execution_count": null,
   "id": "78b86e71",
   "metadata": {},
   "outputs": [],
   "source": [
    "#plot the data\n",
    "train = sep_data[:train_data_len]\n",
    "valid = sep_data[train_data_len:]\n",
    "valid['Predictions'] = predictions\n",
    "#Visialization the data\n",
    "plt.figure(figsize=(16,8))\n",
    "plt.title('Model')\n",
    "plt.xlabel('Date', fontsize=18)\n",
    "plt.ylabel('Adj Close Price' ,fontsize=18)\n",
    "plt.plot(train['Adj Close'])\n",
    "plt.plot(valid[['Adj Close','Predictions']])\n",
    "plt.legend(['Train','Valid','Predictions'], loc='upper center')"
   ]
  },
  {
   "cell_type": "code",
   "execution_count": null,
   "id": "c2cae2a6",
   "metadata": {},
   "outputs": [],
   "source": [
    "valid"
   ]
  },
  {
   "cell_type": "markdown",
   "id": "15175e7e",
   "metadata": {},
   "source": [
    "## Predicting the next value"
   ]
  },
  {
   "cell_type": "code",
   "execution_count": null,
   "id": "22010718",
   "metadata": {},
   "outputs": [],
   "source": [
    "#get the quote\n",
    "data = pd.read_excel('1613615-Stock_Price_data_set (1).xlsx', index_col='Date')\n",
    "#Create new data frame\n",
    "new_df = data.filter(['Close'])\n",
    "#get the last 60 days closing price values and convert the dataframe to an array\n",
    "last_60_days = new_df[-60:].values\n",
    "#scaled the data to be values between 0 and 1\n",
    "last_60_days_scaled = scaler.transform(last_60_days)\n",
    "#create an empty list\n",
    "X_test = []\n",
    "#append the past 60 days \n",
    "X_test.append(last_60_days_scaled)\n",
    "#convert the X_test data set to a numpy array\n",
    "X_test = np.array(X_test)\n",
    "#Reshape the data\n",
    "X_test = np.reshape(X_test,(X_test.shape[0], X_test.shape[1],1))\n",
    "#get the predicted scaled price\n",
    "pred_price= model.predict(X_test)\n",
    "#undo the scalling\n",
    "pred_price = scaler.inverse_transform(pred_price)\n",
    "pred_price"
   ]
  }
 ],
 "metadata": {
  "kernelspec": {
   "display_name": "Python 3 (ipykernel)",
   "language": "python",
   "name": "python3"
  },
  "language_info": {
   "codemirror_mode": {
    "name": "ipython",
    "version": 3
   },
   "file_extension": ".py",
   "mimetype": "text/x-python",
   "name": "python",
   "nbconvert_exporter": "python",
   "pygments_lexer": "ipython3",
   "version": "3.9.7"
  }
 },
 "nbformat": 4,
 "nbformat_minor": 5
}
